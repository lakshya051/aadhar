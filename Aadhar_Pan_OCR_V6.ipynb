{
  "cells": [
    {
      "cell_type": "code",
      "execution_count": 1,
      "metadata": {
        "colab": {
          "base_uri": "https://localhost:8080/"
        },
        "id": "BJLjqtyOwbsC",
        "outputId": "9b3958ca-c3ef-44cf-d45c-b17a3ed541eb"
      },
      "outputs": [
        {
          "output_type": "stream",
          "name": "stdout",
          "text": [
            "Collecting easyocr\n",
            "  Downloading easyocr-1.4.2-py3-none-any.whl (70.8 MB)\n",
            "\u001b[K     |████████████████████████████████| 70.8 MB 12 kB/s \n",
            "\u001b[?25hRequirement already satisfied: scipy in /usr/local/lib/python3.7/dist-packages (from easyocr) (1.4.1)\n",
            "Collecting opencv-python-headless<=4.5.4.60\n",
            "  Downloading opencv_python_headless-4.5.4.60-cp37-cp37m-manylinux_2_17_x86_64.manylinux2014_x86_64.whl (47.6 MB)\n",
            "\u001b[K     |████████████████████████████████| 47.6 MB 1.6 MB/s \n",
            "\u001b[?25hRequirement already satisfied: scikit-image in /usr/local/lib/python3.7/dist-packages (from easyocr) (0.18.3)\n",
            "Requirement already satisfied: PyYAML in /usr/local/lib/python3.7/dist-packages (from easyocr) (3.13)\n",
            "Requirement already satisfied: numpy in /usr/local/lib/python3.7/dist-packages (from easyocr) (1.21.6)\n",
            "Collecting python-bidi\n",
            "  Downloading python_bidi-0.4.2-py2.py3-none-any.whl (30 kB)\n",
            "Requirement already satisfied: torchvision>=0.5 in /usr/local/lib/python3.7/dist-packages (from easyocr) (0.12.0+cu113)\n",
            "Requirement already satisfied: Pillow in /usr/local/lib/python3.7/dist-packages (from easyocr) (7.1.2)\n",
            "Requirement already satisfied: torch in /usr/local/lib/python3.7/dist-packages (from easyocr) (1.11.0+cu113)\n",
            "Requirement already satisfied: requests in /usr/local/lib/python3.7/dist-packages (from torchvision>=0.5->easyocr) (2.23.0)\n",
            "Requirement already satisfied: typing-extensions in /usr/local/lib/python3.7/dist-packages (from torchvision>=0.5->easyocr) (4.2.0)\n",
            "Requirement already satisfied: six in /usr/local/lib/python3.7/dist-packages (from python-bidi->easyocr) (1.15.0)\n",
            "Requirement already satisfied: chardet<4,>=3.0.2 in /usr/local/lib/python3.7/dist-packages (from requests->torchvision>=0.5->easyocr) (3.0.4)\n",
            "Requirement already satisfied: certifi>=2017.4.17 in /usr/local/lib/python3.7/dist-packages (from requests->torchvision>=0.5->easyocr) (2021.10.8)\n",
            "Requirement already satisfied: urllib3!=1.25.0,!=1.25.1,<1.26,>=1.21.1 in /usr/local/lib/python3.7/dist-packages (from requests->torchvision>=0.5->easyocr) (1.24.3)\n",
            "Requirement already satisfied: idna<3,>=2.5 in /usr/local/lib/python3.7/dist-packages (from requests->torchvision>=0.5->easyocr) (2.10)\n",
            "Requirement already satisfied: PyWavelets>=1.1.1 in /usr/local/lib/python3.7/dist-packages (from scikit-image->easyocr) (1.3.0)\n",
            "Requirement already satisfied: tifffile>=2019.7.26 in /usr/local/lib/python3.7/dist-packages (from scikit-image->easyocr) (2021.11.2)\n",
            "Requirement already satisfied: imageio>=2.3.0 in /usr/local/lib/python3.7/dist-packages (from scikit-image->easyocr) (2.4.1)\n",
            "Requirement already satisfied: networkx>=2.0 in /usr/local/lib/python3.7/dist-packages (from scikit-image->easyocr) (2.6.3)\n",
            "Requirement already satisfied: matplotlib!=3.0.0,>=2.0.0 in /usr/local/lib/python3.7/dist-packages (from scikit-image->easyocr) (3.2.2)\n",
            "Requirement already satisfied: kiwisolver>=1.0.1 in /usr/local/lib/python3.7/dist-packages (from matplotlib!=3.0.0,>=2.0.0->scikit-image->easyocr) (1.4.2)\n",
            "Requirement already satisfied: pyparsing!=2.0.4,!=2.1.2,!=2.1.6,>=2.0.1 in /usr/local/lib/python3.7/dist-packages (from matplotlib!=3.0.0,>=2.0.0->scikit-image->easyocr) (3.0.8)\n",
            "Requirement already satisfied: python-dateutil>=2.1 in /usr/local/lib/python3.7/dist-packages (from matplotlib!=3.0.0,>=2.0.0->scikit-image->easyocr) (2.8.2)\n",
            "Requirement already satisfied: cycler>=0.10 in /usr/local/lib/python3.7/dist-packages (from matplotlib!=3.0.0,>=2.0.0->scikit-image->easyocr) (0.11.0)\n",
            "Installing collected packages: python-bidi, opencv-python-headless, easyocr\n",
            "Successfully installed easyocr-1.4.2 opencv-python-headless-4.5.4.60 python-bidi-0.4.2\n",
            "Collecting opencv-python-headless==4.1.2.30\n",
            "  Downloading opencv_python_headless-4.1.2.30-cp37-cp37m-manylinux1_x86_64.whl (21.8 MB)\n",
            "\u001b[K     |████████████████████████████████| 21.8 MB 5.4 MB/s \n",
            "\u001b[?25hRequirement already satisfied: numpy>=1.14.5 in /usr/local/lib/python3.7/dist-packages (from opencv-python-headless==4.1.2.30) (1.21.6)\n",
            "Installing collected packages: opencv-python-headless\n",
            "  Attempting uninstall: opencv-python-headless\n",
            "    Found existing installation: opencv-python-headless 4.5.4.60\n",
            "    Uninstalling opencv-python-headless-4.5.4.60:\n",
            "      Successfully uninstalled opencv-python-headless-4.5.4.60\n",
            "Successfully installed opencv-python-headless-4.1.2.30\n"
          ]
        }
      ],
      "source": [
        "!pip install easyocr\n",
        "!pip install opencv-python-headless==4.1.2.30\n",
        "#!pip install Pillow\n",
        "#!pip install ftfy"
      ]
    },
    {
      "cell_type": "code",
      "source": [
        "import json\n",
        "import cv2\n",
        "import re\n",
        "import numpy as np\n",
        "import easyocr\n",
        "reader = easyocr.Reader(['en'])"
      ],
      "metadata": {
        "colab": {
          "base_uri": "https://localhost:8080/"
        },
        "id": "_bc_fJOPr63u",
        "outputId": "6782d9bf-dff4-4424-c5cc-f773cfb1f4c5"
      },
      "execution_count": 2,
      "outputs": [
        {
          "output_type": "stream",
          "name": "stderr",
          "text": [
            "CUDA not available - defaulting to CPU. Note: This module is much faster with a GPU.\n",
            "Downloading detection model, please wait. This may take several minutes depending upon your network connection.\n"
          ]
        },
        {
          "output_type": "stream",
          "name": "stdout",
          "text": [
            "Progress: |██████████████████████████████████████████████████| 100.0% Complete"
          ]
        },
        {
          "output_type": "stream",
          "name": "stderr",
          "text": [
            "Downloading recognition model, please wait. This may take several minutes depending upon your network connection.\n"
          ]
        },
        {
          "output_type": "stream",
          "name": "stdout",
          "text": [
            "Progress: |██████████████████████████████████████████████████| 100.0% Complete"
          ]
        }
      ]
    },
    {
      "cell_type": "code",
      "execution_count": 48,
      "metadata": {
        "id": "FBq4OBUpv30R"
      },
      "outputs": [],
      "source": [
        "def pan_read_data(text):\n",
        "  name = None\n",
        "  fname = None\n",
        "  dob = None\n",
        "  pan = None\n",
        "  text1 = []\n",
        "  lines = text.split(',')\n",
        "  for lin in lines:\n",
        "    s = lin.strip()\n",
        "    s = lin.replace('\\n','')\n",
        "    s = s.rstrip()\n",
        "    s = s.lstrip()\n",
        "    text1.append(s)\n",
        "  text1 = list(filter(None, text1))\n",
        "  try:\n",
        "    dob = re.search(r'\\d{2}.\\d{2}.\\d{4}',text).group()\n",
        "  except:\n",
        "    pass\n",
        "  \n",
        "  try:\n",
        "    pan = re.search(r'[a-zA-Z]{5}\\d{4}[a-zA-Z]',text).group()\n",
        "  except:\n",
        "    lineno = 0\n",
        "    for wordline in text1:\n",
        "      xx = wordline.split(' ')\n",
        "      if ([w for w in xx if re.search('(Pormanam|Number|umber|Account|ccount|count|Permanent|ermanent|manent|wumm)$', w)]):\n",
        "          text1 = list(text1)\n",
        "          lineno = text1.index(wordline)            \n",
        "          pan = text1[lineno+1:][0]\n",
        "\n",
        "  lineno = 0\n",
        "  for wordline in text1:\n",
        "    xx = wordline.split(' ')\n",
        "    if ([w for w in xx if re.search('(Name|GOW|GOVT|GOVERNMENT|OVERNMENT|VERNMENT|INDIA|NDIA)$', w)]):\n",
        "      if ([w for w in xx if re.search('(Father|FATHER|Fath|ather)$', w)]):\n",
        "        text1 = list(text1)\n",
        "        lineno = text1.index(wordline)\n",
        "        fname = text1[lineno+1:][0]\n",
        "        break\n",
        "      text1 = list(text1)\n",
        "      lineno = text1.index(wordline)\n",
        "      name = text1[lineno+1:][0]\n",
        "      fname = text1[lineno+1:][1]\n",
        "                \n",
        "  try:\n",
        "# Cleaning first names\n",
        "      name = name.rstrip()\n",
        "      name = name.lstrip()\n",
        "      name = name.replace(\"8\", \"B\")\n",
        "      name = name.replace(\"0\", \"D\")\n",
        "      name = name.replace(\"6\", \"G\")\n",
        "      name = name.replace(\"1\", \"I\")\n",
        "      name = re.sub('[^a-zA-Z] +', ' ', name)\n",
        "# Cleaning Father's name\n",
        "      fname = fname.rstrip()\n",
        "      fname = fname.lstrip()\n",
        "      fname = fname.replace(\"8\", \"S\")\n",
        "      fname = fname.replace(\"0\", \"O\")\n",
        "      fname = fname.replace(\"6\", \"G\")\n",
        "      fname = fname.replace(\"1\", \"I\")\n",
        "      fname = fname.replace(\"\\\"\", \"A\")\n",
        "      fname = re.sub('[^a-zA-Z] +', ' ', fname)\n",
        "\n",
        "  except:\n",
        "          pass\n",
        "  data = {}\n",
        "  data['Name'] = name\n",
        "  data['Father Name'] = fname\n",
        "  data['Date of Birth'] = dob\n",
        "  data['PAN'] = pan\n",
        "  data['ID Type'] = \"PAN\"\n",
        "  return data\n"
      ]
    },
    {
      "cell_type": "code",
      "execution_count": 139,
      "metadata": {
        "id": "QXOux-aQ4M_M"
      },
      "outputs": [],
      "source": [
        "def adhaar_read_data(text):\n",
        "    name = None\n",
        "    dob = None\n",
        "    adh = None\n",
        "    sex = None\n",
        "    text1 = []\n",
        "    lines = text.split(',')\n",
        "    for lin in lines:\n",
        "      s = lin.strip()\n",
        "      s = lin.replace('\\n','')\n",
        "      s = s.rstrip()\n",
        "      s = s.lstrip()\n",
        "      text1.append(s)\n",
        "\n",
        "    if 'female' in text.lower():\n",
        "        sex = \"FEMALE\"\n",
        "    else:\n",
        "        sex = \"MALE\"\n",
        "\n",
        "    # extractin DOB\n",
        "    try:\n",
        "      dob = re.search(r'\\d{2}.\\d{2}.\\d{4}',text).group()\n",
        "    except:\n",
        "      pass\n",
        "    try:\n",
        "      adh = re.search(r'\\d{4}\\s\\d{4}\\s\\d{4}',text).group()\n",
        "    except:\n",
        "      pass\n",
        "\n",
        "    lineno = 0\n",
        "    for wordline in text1:\n",
        "      xx = wordline.split(' ')\n",
        "      if ([w for w in xx if re.search('(Govt|Government|India|Government of India|lndia|Indla|GOW|GOVT|GOVERNMENT|OVERNMENT|VERNMENT|INDIA|NDIA)$', w)]):\n",
        "          text1 = list(text1)\n",
        "          lineno = text1.index(wordline) \n",
        "          name = text1[lineno+2]           \n",
        "    \n",
        "    try:   \n",
        "\n",
        "      # Cleaning first names\n",
        "      name = name.rstrip()\n",
        "      name = name.lstrip()\n",
        "      name = name.replace(\"8\", \"B\")\n",
        "      name = name.replace(\"0\", \"D\")\n",
        "      name = name.replace(\"6\", \"G\")\n",
        "      name = name.replace(\"1\", \"I\")\n",
        "      name = re.sub('[^a-zA-Z] +', ' ', name)\n",
        "\n",
        "    except:\n",
        "      pass\n",
        "\n",
        "    data = {}\n",
        "    data['Name'] = name\n",
        "    data['Date of Birth'] = dob\n",
        "    data['Adhaar Number'] = adh\n",
        "    data['Sex'] = sex\n",
        "    data['ID Type'] = \"Adhaar\"\n",
        "    return data\n",
        "\n",
        "def detect_text_blocks(img_path):\n",
        "    detection_result = reader.detect(img_path,\n",
        "                                 width_ths=0.7, \n",
        "                                 mag_ratio=1.5\n",
        "                                 )\n",
        "    text_coordinates = detection_result[0][0]\n",
        "    return text_coordinates\n",
        "\n"
      ]
    },
    {
      "cell_type": "code",
      "execution_count": 5,
      "metadata": {
        "id": "DGCMw3Sp5D1N"
      },
      "outputs": [],
      "source": [
        "def extractinfo(imgpath):\n",
        "  text_coordinates = detect_text_blocks(imgpath)\n",
        "  recognition_results = reader.recognize(imgpath,horizontal_list=text_coordinates,free_list=[])\n",
        "  text = [txt[1] for txt in recognition_results]\n",
        "  text = \",\".join(text)\n",
        "  data = None\n",
        "  if \"income\" in text.lower() or \"tax\" in text.lower() or \"department\" in text.lower():\n",
        "      data = pan_read_data(text)\n",
        "  \n",
        "  elif \"male\" in text.lower():\n",
        "      data = adhaar_read_data(text)\n",
        "  return data\n"
      ]
    },
    {
      "cell_type": "code",
      "source": [
        "imgpath = \"/content/aadhar1.jpg\"\n",
        "extractinfo(imgpath)"
      ],
      "metadata": {
        "colab": {
          "base_uri": "https://localhost:8080/"
        },
        "id": "V12LrYJP3JBX",
        "outputId": "50c5e8e6-f543-4241-b5d4-bbf10d28ef84"
      },
      "execution_count": 145,
      "outputs": [
        {
          "output_type": "execute_result",
          "data": {
            "text/plain": [
              "{'Adhaar Number': '7389 4269 3567',\n",
              " 'Date of Birth': '15/02/1990',\n",
              " 'ID Type': 'Adhaar',\n",
              " 'Name': 'Abdul Khalek Mondal',\n",
              " 'Sex': 'MALE'}"
            ]
          },
          "metadata": {},
          "execution_count": 145
        }
      ]
    },
    {
      "cell_type": "code",
      "source": [
        "imgpath = \"/content/Pansample1.jpg\"\n",
        "extractinfo(imgpath)"
      ],
      "metadata": {
        "id": "fqB71XHoR-kj",
        "outputId": "1d7a67cb-09f3-4a71-be3e-04b8592f3230",
        "colab": {
          "base_uri": "https://localhost:8080/"
        }
      },
      "execution_count": 146,
      "outputs": [
        {
          "output_type": "execute_result",
          "data": {
            "text/plain": [
              "{'Date of Birth': '16/07/1986',\n",
              " 'Father Name': 'DURAISAMY',\n",
              " 'ID Type': 'PAN',\n",
              " 'Name': 'D MANIKANDAN',\n",
              " 'PAN': 'BNZPM2SOIF'}"
            ]
          },
          "metadata": {},
          "execution_count": 146
        }
      ]
    },
    {
      "cell_type": "code",
      "source": [
        ""
      ],
      "metadata": {
        "id": "4JMpSz0cTiJa"
      },
      "execution_count": null,
      "outputs": []
    }
  ],
  "metadata": {
    "colab": {
      "name": "Aadhar_Pan_OCR_V3.ipynb",
      "provenance": [],
      "collapsed_sections": []
    },
    "kernelspec": {
      "display_name": "Python 3",
      "name": "python3"
    },
    "language_info": {
      "name": "python"
    }
  },
  "nbformat": 4,
  "nbformat_minor": 0
}